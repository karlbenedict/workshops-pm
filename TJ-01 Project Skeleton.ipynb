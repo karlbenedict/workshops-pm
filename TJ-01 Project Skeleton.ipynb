{
 "cells": [
  {
   "cell_type": "markdown",
   "metadata": {},
   "source": [
    "# The Skeleton of a TaskJuggler Project"
   ]
  },
  {
   "cell_type": "markdown",
   "metadata": {},
   "source": [
    "A \"valid\" TaskJuggler project consists of a minimum of:\n",
    "\n",
    "* A *project header* ([doc](http://taskjuggler.org/tj3/manual/project.html))\n",
    "* A *task* ([doc](http://taskjuggler.org/tj3/manual/task.html))\n",
    "* A *report* ([doc - taskreport](http://taskjuggler.org/tj3/manual/taskreport.html), [doc - resourcereport](http://taskjuggler.org/tj3/manual/resourcereport.html), [doc - accountreport](http://taskjuggler.org/tj3/manual/accountreport.html), [doc - textreport](http://taskjuggler.org/tj3/manual/textreport.html))\n",
    "\n",
    "This can literally be (saved in a file with a **.tjp** file extension):\n",
    "\n",
    "    project minimal \"My minimal project\" 2018-07-01 - 2019-06-30\n",
    "    task \"get something done\"\n",
    "    taskreport \"reports/minimal_taskreport\" {\n",
    "        formats html\n",
    "    }\n",
    "\n",
    "which can be run using the tj3 command at the command prompt:\n",
    "\n",
    "    tj3 <.tjp filename>\n",
    "\n",
    "for example\n",
    "\n",
    "    tj3 Sample-Files/minimal.tjp\n",
    "\n",
    "[minimal.tjp file](Sample-Files/minimal.tjp)\n",
    "\n",
    "## Running the TaskJuggler Application to Schedule a Project"
   ]
  },
  {
   "cell_type": "code",
   "execution_count": 14,
   "metadata": {
    "scrolled": true
   },
   "outputs": [
    {
     "name": "stdout",
     "output_type": "stream",
     "text": [
      "TaskJuggler v3.6.0 - A Project Management Software\n",
      "\n",
      "Copyright (c) 2006, 2007, 2008, 2009, 2010, 2011, 2012, 2013, 2014, 2015, 2016\n",
      "              by Chris Schlaeger <cs@taskjuggler.org>\n",
      "\n",
      "This program is free software; you can redistribute it and/or modify it under\n",
      "the terms of version 2 of the GNU General Public License as published by the\n",
      "Free Software Foundation.\n",
      "\n",
      "Reading file minimal.tjp                                     ...\r",
      "Reading file minimal.tjp                                     ...\r",
      "Reading file minimal.tjp                                     [      Done      ]\n",
      "Preparing scenario Plan Scenario                             ...\r",
      "Preparing scenario Plan Scenario                             [=======81%==    ]\r",
      "Preparing scenario Plan Scenario                             [=======82%===   ]\r",
      "Preparing scenario Plan Scenario                             [=======83%===   ]\r",
      "Preparing scenario Plan Scenario                             [=======84%===   ]\r",
      "Preparing scenario Plan Scenario                             [=======85%===   ]\r",
      "Preparing scenario Plan Scenario                             [=======87%===   ]\r",
      "Preparing scenario Plan Scenario                             [=======88%====  ]\r",
      "Preparing scenario Plan Scenario                             [=======90%====  ]\r",
      "Preparing scenario Plan Scenario                             [=======95%===== ]\r",
      "Preparing scenario Plan Scenario                             [=======99%===== ]\r",
      "Preparing scenario Plan Scenario                             [======100%======]\r",
      "Preparing scenario Plan Scenario                             [      Done      ]\n",
      "Scheduling scenario Plan Scenario                            ...\r",
      "Scheduling scenario Plan Scenario                            [      Done      ]\n",
      "Checking scenario Plan Scenario                              ...\r",
      "Checking scenario Plan Scenario                              [======100%======]\r",
      "Checking scenario Plan Scenario                              [      Done      ]\n",
      "Report reports/minimal_taskreport                            ...\r",
      "Report reports/minimal_taskreport                            [|]\r",
      "Report reports/minimal_taskreport                            [      Done      ]\n"
     ]
    }
   ],
   "source": [
    "%%bash\n",
    "cd Sample-Files\n",
    "tj3 minimal.tjp"
   ]
  },
  {
   "cell_type": "markdown",
   "metadata": {},
   "source": [
    "producing this HTML report:\n",
    "\n",
    "[Sample-Files/reports/minimal_taskreport.html](Sample-Files/reports/minimal_taskreport.html)"
   ]
  },
  {
   "cell_type": "markdown",
   "metadata": {},
   "source": [
    "## Making a Useful Project\n",
    "\n",
    "A useful TaskJuggler project typically includes more than the minimum components illustrated above. The components you may include in your project include:\n",
    "\n",
    "* [macros](http://taskjuggler.org/tj3/manual/macro.html)\n",
    "* [flags](http://taskjuggler.org/tj3/manual/flags.html)\n",
    "* **[accounts](http://taskjuggler.org/tj3/manual/account.html)**\n",
    "* [shifts](http://taskjuggler.org/tj3/manual/shift.html)\n",
    "* [vacations](http://taskjuggler.org/tj3/manual/vacation.html)\n",
    "* **[resources](http://taskjuggler.org/tj3/manual/resource.html)**\n",
    "* **[tasks](http://taskjuggler.org/tj3/manual/task.html)**\n",
    "* [accountreports](http://taskjuggler.org/tj3/manual/accountreport.html)\n",
    "* **[resourcereports](http://taskjuggler.org/tj3/manual/resourcereport.html)**\n",
    "* **[taskreports](http://taskjuggler.org/tj3/manual/taskreport.html)**\n",
    "* [textreports](http://taskjuggler.org/tj3/manual/textreport.html)\n",
    "* [exports](http://taskjuggler.org/tj3/manual/export.html)\n",
    "\n",
    "These components of your project plan may be stored in the master **.tjp** file, or they may be defined in **.tji** files and then referenced using the [`include`](http://taskjuggler.org/tj3/manual/include.project.html) statement. In today's examples and exercises we will be working in a single **.tjp** file, but in practice your project components are much more easily managed when the project is broken up into a master **.tjp** file and a number of separate **.tji** files that are included by reference. \n",
    "\n",
    "### Let's start with a high-level skeleton for our project that we will make more complex and realistic through the rest of the workshop.\n",
    "\n",
    "[foundation-01.tjp file](Sample-Files/foundation-01.tjp)\n",
    "\n",
    "    project foundation \"Foundation Project\" 2018-07-01 - 2019-06-30 {}\n",
    "    \n",
    "    task doing \"Making the Goods\" {\n",
    "        duration 4m\n",
    "    }\n",
    "    \n",
    "    taskreport \"reports/foundation-00_taskreport\" {\n",
    "        formats html, csv\n",
    "        headline \"Project Breakdown\"\n",
    "    }\n"
   ]
  },
  {
   "cell_type": "code",
   "execution_count": 16,
   "metadata": {},
   "outputs": [
    {
     "name": "stdout",
     "output_type": "stream",
     "text": [
      "TaskJuggler v3.6.0 - A Project Management Software\n",
      "\n",
      "Copyright (c) 2006, 2007, 2008, 2009, 2010, 2011, 2012, 2013, 2014, 2015, 2016\n",
      "              by Chris Schlaeger <cs@taskjuggler.org>\n",
      "\n",
      "This program is free software; you can redistribute it and/or modify it under\n",
      "the terms of version 2 of the GNU General Public License as published by the\n",
      "Free Software Foundation.\n",
      "\n",
      "Reading file foundation-01.tjp                               ...\r",
      "Reading file foundation-01.tjp                               ...\r",
      "Reading file foundation-01.tjp                               [      Done      ]\n",
      "Preparing scenario Plan Scenario                             ...\r",
      "Preparing scenario Plan Scenario                             [=======81%==    ]\r",
      "Preparing scenario Plan Scenario                             [=======82%===   ]\r",
      "Preparing scenario Plan Scenario                             [=======83%===   ]\r",
      "Preparing scenario Plan Scenario                             [=======84%===   ]\r",
      "Preparing scenario Plan Scenario                             [=======85%===   ]\r",
      "Preparing scenario Plan Scenario                             [=======87%===   ]\r",
      "Preparing scenario Plan Scenario                             [=======88%====  ]\r",
      "Preparing scenario Plan Scenario                             [=======90%====  ]\r",
      "Preparing scenario Plan Scenario                             [=======95%===== ]\r",
      "Preparing scenario Plan Scenario                             [=======99%===== ]\r",
      "Preparing scenario Plan Scenario                             [======100%======]\r",
      "Preparing scenario Plan Scenario                             [      Done      ]\n",
      "Scheduling scenario Plan Scenario                            ...\r",
      "Scheduling scenario Plan Scenario                            [      Done      ]\n",
      "Checking scenario Plan Scenario                              ...\r",
      "Checking scenario Plan Scenario                              [======100%======]\r",
      "Checking scenario Plan Scenario                              [      Done      ]\n",
      "Report reports/foundation-01_taskreport                      ...\r",
      "Report reports/foundation-01_taskreport                      [|]\r",
      "Report reports/foundation-01_taskreport                      [      Done      ]\n"
     ]
    }
   ],
   "source": [
    "%%bash\n",
    "cd Sample-Files\n",
    "tj3 foundation-01.tjp"
   ]
  },
  {
   "cell_type": "markdown",
   "metadata": {},
   "source": [
    "producing this HTML report:\n",
    "\n",
    "[Sample-Files/reports/foundation-01_taskreport.html](Sample-Files/reports/foundation-01_taskreport.html)\n",
    "\n",
    "and the following CSV file:\n",
    "\n",
    "[Sample-Files/reports/foundation-01_taskreport.csv](Sample-Files/reports/foundation-01_taskreport.csv)"
   ]
  },
  {
   "cell_type": "markdown",
   "metadata": {},
   "source": [
    "## Practice ...\n",
    "\n",
    "We're going to work on incrementally building an increasingy complex project file for the rest of the workshop. At this point we want to start with a skeleton similar to the one we just looked at and generated a report for ...\n",
    "\n",
    "... and from that starting point elaborate our project plan to include \n",
    "\n",
    "* Sub-tasks\n",
    "* Resources\n",
    "* Cost and revenue information\n",
    "* Project progress \n",
    "* Project visualizations and reports\n",
    "\n",
    "### Activity:\n",
    "\n",
    "1. Create your own \"skeleton\" `.tjp` file for a project that you are interested in modeling for the rest of the workshop practice sessions\n",
    "\n",
    "    a. Create a new text file in the `practice` folder - giving it a name (ending with `.tjp` that will be unique to you (this is especially important if you are working in the online workshop playground as other workshop participants will be creating files in this same folder).\n",
    "    \n",
    "    b. Add content to the file you created that is similar to the code presented above for the project you will develop for the rest of the workshop.\n",
    "    \n",
    "    c. Save your file.\n",
    "\n",
    "2. Run the TaskJuggler scheduler to test your skeleton to make sure that it does not generate any errors. If it does, see if you can fix them and re-run the scheduler. \n",
    "\n",
    "    a. You can run the scheduler from within a new Jupyter Notebook like I have been demonstrating here, or\n",
    "    \n",
    "    b. You can open a new `Terminal` interface and run the `tj3 <your .tjp filename>` from the command prompt. \n",
    "\n",
    "<video controls src=\"images/Timer5Minutestory.mov\" />"
   ]
  },
  {
   "cell_type": "markdown",
   "metadata": {},
   "source": [
    "-------------------\n",
    "[(0)](TJ-00%20What%20is%20TaskJuggler.ipynb) -- \n",
    "(1) -- \n",
    "[(2)](TJ-02%20A%20Fleshed%20Out%20TaskJuggler%20Outline.ipynb) -- \n",
    "[(3)](TJ-03%20Progressive%20Elaboration%20of%20Tasks%20in%20TaskJuggler.ipynb) -- \n",
    "[(4)](TJ-04%20Assigning%20Resources%20%26%20Cost%20Estimation%20in%20TaskJuggler.ipynb) --\n",
    "[(5)](TJ-05%20Project%20Tracking%20in%20TaskJuggler.ipynb) -- \n",
    "[(6)](TJ-06%20Visualization%20%26%20Reporting%20in%20TaskJuggler.ipynb)"
   ]
  },
  {
   "cell_type": "code",
   "execution_count": null,
   "metadata": {},
   "outputs": [],
   "source": []
  }
 ],
 "metadata": {
  "kernelspec": {
   "display_name": "Python 3",
   "language": "python",
   "name": "python3"
  },
  "language_info": {
   "codemirror_mode": {
    "name": "ipython",
    "version": 3
   },
   "file_extension": ".py",
   "mimetype": "text/x-python",
   "name": "python",
   "nbconvert_exporter": "python",
   "pygments_lexer": "ipython3",
   "version": "3.6.5"
  }
 },
 "nbformat": 4,
 "nbformat_minor": 2
}
