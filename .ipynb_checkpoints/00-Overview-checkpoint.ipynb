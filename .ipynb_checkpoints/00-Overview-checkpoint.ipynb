{
 "cells": [
  {
   "cell_type": "markdown",
   "metadata": {},
   "source": [
    "# Overview of the TaskJuggler workshop elements\n",
    "\n",
    "The workshop activities associated with the use of [TaskJuggler](http://taskjuggler.org) for jproject planning are organized into seven sections:\n",
    "\n",
    "1. An introduction to TaskJuggler ([link](TJ-00%20What%20is%20TaskJuggler.ipynb))\n",
    "2. The development of a project skeleton ([link](TJ-01%20Project%20Skeleton.ipynb))\n",
    "3. Adding some high-level duration-based tasks and other materials to the project skeleton ([link](hTJ-02%20A%20Fleshed%20Out%20TaskJuggler%20Outline.ipynb))\n",
    "4. Progressive elaboration of tasks through the further development of sub-tasks and dependencies between tasks that impact the sequence of work ([link](TJ-03%20Progressive%20Elaboration%20of%20Tasks%20in%20TaskJuggler.ipynb))\n",
    "5. Continued elaboration through the assignment of tasks to resources, integrating *effort* estimates, and costs into the plan ([link](TJ-04%20Assigning%20Resources%20%26%20Cost%20Estimation%20in%20TaskJuggler.ipynb))\n",
    "6. Adding project tracking information into the plan ([link](TJ-05%20Project%20Tracking%20in%20TaskJuggler.ipynb))\n",
    "7. Generating reports and visualization of plan elements ([link](TJ-06%20Visualization%20%26%20Reporting%20in%20TaskJuggler.ipynb))"
   ]
  }
 ],
 "metadata": {
  "kernelspec": {
   "display_name": "Python 3",
   "language": "python",
   "name": "python3"
  },
  "language_info": {
   "codemirror_mode": {
    "name": "ipython",
    "version": 3
   },
   "file_extension": ".py",
   "mimetype": "text/x-python",
   "name": "python",
   "nbconvert_exporter": "python",
   "pygments_lexer": "ipython3",
   "version": "3.6.5"
  }
 },
 "nbformat": 4,
 "nbformat_minor": 2
}
