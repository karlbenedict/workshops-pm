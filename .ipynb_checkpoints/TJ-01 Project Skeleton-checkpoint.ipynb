{
 "cells": [
  {
   "cell_type": "markdown",
   "metadata": {},
   "source": [
    "# The Skeleton of a TaskJuggler Project"
   ]
  },
  {
   "cell_type": "markdown",
   "metadata": {},
   "source": [
    "A \"valid\" TaskJuggler project consists of a minimum of:\n",
    "\n",
    "* A *project header* ([doc](http://taskjuggler.org/tj3/manual/project.html))\n",
    "* A *task* ([doc](http://taskjuggler.org/tj3/manual/task.html))\n",
    "* A *report* ([doc - taskreport](http://taskjuggler.org/tj3/manual/taskreport.html), [doc - resourcereport](http://taskjuggler.org/tj3/manual/resourcereport.html), [doc - accountreport](http://taskjuggler.org/tj3/manual/accountreport.html), [doc - textreport](http://taskjuggler.org/tj3/manual/textreport.html))\n",
    "\n",
    "This can literally be (saved in a file with a **.tjp** file extension):\n",
    "\n",
    "    project minimal \"My minimal project\" 7-1-2018 - 6-30-2019\n",
    "    task \"get something done\"\n",
    "    taskreport \"reports/minimal_taskreport\" {\n",
    "        formats html\n",
    "    }\n",
    "\n",
    "which can be run using the tj3 command at the command prompt:\n",
    "\n",
    "    tj3 <.tjp filename>\n",
    "\n",
    "for example\n",
    "\n",
    "    tj3 Sample-Files/minimal.tjp\n",
    "\n",
    "[minimal.tjp file](Sample-Files/minimal.tjp)\n",
    "\n",
    "## Running the TaskJuggler Application to Schedule a Project"
   ]
  },
  {
   "cell_type": "code",
   "execution_count": 12,
   "metadata": {},
   "outputs": [
    {
     "name": "stdout",
     "output_type": "stream",
     "text": [
      "TaskJuggler v3.6.0 - A Project Management Software\n",
      "\n",
      "Copyright (c) 2006, 2007, 2008, 2009, 2010, 2011, 2012, 2013, 2014, 2015, 2016\n",
      "              by Chris Schlaeger <cs@taskjuggler.org>\n",
      "\n",
      "This program is free software; you can redistribute it and/or modify it under\n",
      "the terms of version 2 of the GNU General Public License as published by the\n",
      "Free Software Foundation.\n",
      "\n",
      "Reading file minimal.tjp                                     ...\r",
      "Reading file minimal.tjp                                     ...\r",
      "Reading file minimal.tjp                                     [      Done      ]\n",
      "Preparing scenario Plan Scenario                             ...\r",
      "Preparing scenario Plan Scenario                             [=======81%==    ]\r",
      "Preparing scenario Plan Scenario                             [=======82%===   ]\r",
      "Preparing scenario Plan Scenario                             [=======83%===   ]\r",
      "Preparing scenario Plan Scenario                             [=======84%===   ]\r",
      "Preparing scenario Plan Scenario                             [=======85%===   ]\r",
      "Preparing scenario Plan Scenario                             [=======87%===   ]\r",
      "Preparing scenario Plan Scenario                             [=======88%====  ]\r",
      "Preparing scenario Plan Scenario                             [=======90%====  ]\r",
      "Preparing scenario Plan Scenario                             [=======95%===== ]\r",
      "Preparing scenario Plan Scenario                             [=======99%===== ]\r",
      "Preparing scenario Plan Scenario                             [======100%======]\r",
      "Preparing scenario Plan Scenario                             [      Done      ]\n",
      "Scheduling scenario Plan Scenario                            ...\r",
      "Scheduling scenario Plan Scenario                            [      Done      ]\n",
      "Checking scenario Plan Scenario                              ...\r",
      "Checking scenario Plan Scenario                              [======100%======]\r",
      "Checking scenario Plan Scenario                              [      Done      ]\n",
      "Report reports/minimal_taskreport                            ...\r",
      "Report reports/minimal_taskreport                            [|]\r",
      "Report reports/minimal_taskreport                            [      Done      ]\n"
     ]
    }
   ],
   "source": [
    "%%bash\n",
    "cd Sample-Files\n",
    "tj3 minimal.tjp"
   ]
  },
  {
   "cell_type": "markdown",
   "metadata": {},
   "source": [
    "producing this HTML report:\n",
    "\n",
    "[Sample-Files/reports/minimal_taskreport.html](Sample-Files/reports/minimal_taskreport.html)"
   ]
  },
  {
   "cell_type": "markdown",
   "metadata": {},
   "source": [
    "## Making a Useful Project\n",
    "\n",
    "A useful TaskJuggler project typically includes more than the minimum components illustrated above. The components you may include in your project include:\n",
    "\n",
    "* [macros](http://taskjuggler.org/tj3/manual/macro.html)\n",
    "* [flags](http://taskjuggler.org/tj3/manual/flags.html)\n",
    "* [accounts](http://taskjuggler.org/tj3/manual/account.html)\n",
    "* [shifts](http://taskjuggler.org/tj3/manual/shift.html)\n",
    "* [vacations](http://taskjuggler.org/tj3/manual/vacation.html)\n",
    "* **[resources](http://taskjuggler.org/tj3/manual/resource.html)**\n",
    "* **[tasks](http://taskjuggler.org/tj3/manual/task.html)**\n",
    "* [accountreports](http://taskjuggler.org/tj3/manual/accountreport.html)\n",
    "* **[resourcereports](http://taskjuggler.org/tj3/manual/resourcereport.html)**\n",
    "* **[taskreports](http://taskjuggler.org/tj3/manual/taskreport.html)**\n",
    "* [textreports](http://taskjuggler.org/tj3/manual/textreport.html)\n",
    "* [exports](http://taskjuggler.org/tj3/manual/export.html)\n",
    "\n",
    "These components of your project plan may be stored in the master **.tjp** file, or they may be defined in **.tji** files and then referenced using the [`include`](http://taskjuggler.org/tj3/manual/include.project.html) statement. In today's examples and exercises we will be working in a single **.tjp** file, but in practice your project components are much more easily managed when the project is broken up into a master **.tjp** file and a number of separate **.tji** files that are included by reference. "
   ]
  },
  {
   "cell_type": "code",
   "execution_count": 16,
   "metadata": {},
   "outputs": [
    {
     "name": "stdout",
     "output_type": "stream",
     "text": [
      "TaskJuggler v3.6.0 - A Project Management Software\n",
      "\n",
      "Copyright (c) 2006, 2007, 2008, 2009, 2010, 2011, 2012, 2013, 2014, 2015, 2016\n",
      "              by Chris Schlaeger <cs@taskjuggler.org>\n",
      "\n",
      "This program is free software; you can redistribute it and/or modify it under\n",
      "the terms of version 2 of the GNU General Public License as published by the\n",
      "Free Software Foundation.\n",
      "\n",
      "Reading file foundation.tjp                                  ...\r",
      "Reading file foundation.tjp                                  ...\r",
      "Reading file foundation.tjp                                  [      Done      ]\n",
      "Preparing scenario Plan Scenario                             ...\r",
      "Preparing scenario Plan Scenario                             [==     13%      ]\r",
      "Preparing scenario Plan Scenario                             [====   26%      ]\r",
      "Preparing scenario Plan Scenario                             [====== 40%      ]\r",
      "Preparing scenario Plan Scenario                             [=======53%      ]\r",
      "Preparing scenario Plan Scenario                             [=======66%      ]\r",
      "Preparing scenario Plan Scenario                             [=======80%==    ]\r",
      "Preparing scenario Plan Scenario                             [=======81%==    ]\r",
      "Preparing scenario Plan Scenario                             [=======82%===   ]\r",
      "Preparing scenario Plan Scenario                             [=======83%===   ]\r",
      "Preparing scenario Plan Scenario                             [=======84%===   ]\r",
      "Preparing scenario Plan Scenario                             [=======85%===   ]\r",
      "Preparing scenario Plan Scenario                             [=======87%===   ]\r",
      "Preparing scenario Plan Scenario                             [=======88%====  ]\r",
      "Preparing scenario Plan Scenario                             [=======90%====  ]\r",
      "Preparing scenario Plan Scenario                             [=======95%===== ]\r",
      "Preparing scenario Plan Scenario                             [=======99%===== ]\r",
      "Preparing scenario Plan Scenario                             [======100%======]\r",
      "Preparing scenario Plan Scenario                             [      Done      ]\n",
      "Scheduling scenario Plan Scenario                            ...\r",
      "Scheduling scenario Plan Scenario                            [      Done      ]\n",
      "Checking scenario Plan Scenario                              ...\r",
      "Checking scenario Plan Scenario                              [=======50%      ]\r",
      "Checking scenario Plan Scenario                              [======100%======]\r",
      "Checking scenario Plan Scenario                              [      Done      ]\n",
      "Report reports/foundation_taskreport                         ...\r",
      "Report reports/foundation_taskreport                         [|]\r",
      "Report reports/foundation_taskreport                         [      Done      ]\n",
      "Report reports/foundation_taskchart                          ...\r",
      "Report reports/foundation_taskchart                          [/]\r",
      "Report reports/foundation_taskchart                          [      Done      ]\n"
     ]
    }
   ],
   "source": [
    "%%bash\n",
    "cd Sample-Files\n",
    "tj3 foundation.tjp"
   ]
  },
  {
   "cell_type": "markdown",
   "metadata": {},
   "source": [
    "producing this HTML reports:\n",
    "\n",
    "[Sample-Files/reports/foundation_taskreport.html](Sample-Files/reports/foundation_taskreport.html)\n",
    "\n",
    "[Sample-Files/reports/foundation_taskreport.html](Sample-Files/reports/foundation_taskreport.html)\n",
    "\n",
    "and the following CSV file:\n",
    "\n",
    "[Sample-Files/reports/foundation_taskreport.csv](Sample-Files/reports/foundation_taskreport.csv)"
   ]
  },
  {
   "cell_type": "code",
   "execution_count": null,
   "metadata": {},
   "outputs": [],
   "source": []
  }
 ],
 "metadata": {
  "kernelspec": {
   "display_name": "Python 3",
   "language": "python",
   "name": "python3"
  },
  "language_info": {
   "codemirror_mode": {
    "name": "ipython",
    "version": 3
   },
   "file_extension": ".py",
   "mimetype": "text/x-python",
   "name": "python",
   "nbconvert_exporter": "python",
   "pygments_lexer": "ipython3",
   "version": "3.6.5"
  }
 },
 "nbformat": 4,
 "nbformat_minor": 2
}
