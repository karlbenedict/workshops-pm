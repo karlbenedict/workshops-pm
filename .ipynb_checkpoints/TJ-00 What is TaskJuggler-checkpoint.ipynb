{
 "cells": [
  {
   "cell_type": "markdown",
   "metadata": {},
   "source": [
    "# What is TaskJuggler?"
   ]
  },
  {
   "cell_type": "markdown",
   "metadata": {},
   "source": [
    "[TaskJuggler](http://taskjuggler.org/index.html) is an open source project (written in Ruby) planning and management application \n",
    "that provides a comprehensive set of tools for project planning, management, and reporting. Versions of TaskJuggler\n",
    "are available for Linux, the Mac OS, and Windows and multiple docker containers have been created that encapsulate\n",
    "TaskJuggler for ease of execution without having to directly install it within the host computer operating systemn. \n",
    "\n",
    "Some key characteristics of TaskJuggler include:\n",
    "\n",
    "1. **Text-based** configuration files\n",
    "2. A **command-line tool** that is run to perform scheduling and report generation\n",
    "3. An optional local **server process** that can be run and with which a **client tool** can interact to more rapidly generate reports for projects that have been loaded into the server\n",
    "4. **Email-based workflows** for large-scale project tracking\n",
    "5. Support for **web-based, CSV, and iCal** reports enabling delivery of plan products through web browsers, further analysis and visualization of scheduling data outside of TaskJuggler, and sharing of project plan for integration into calendar systems. \n",
    "6. **Scenario support** for comparing alternative project paths.\n",
    "7. **Accounting capabilities** for estimating and tracking costs and revenue through the life of a project. \n",
    "\n",
    "For more information about TaskJuggler visit:\n",
    "\n",
    "* The project [introduction](http://taskjuggler.org/index.html) page\n",
    "* TaskJuggler's [online documentation](http://www.taskjuggler.org/tj3/manual/index.html) site\n",
    "* The [installation instructions](http://taskjuggler.org/tj3/manual/Installation.html#Installation) from the current user's manual"
   ]
  },
  {
   "cell_type": "markdown",
   "metadata": {},
   "source": [
    "## A quick look at a \"real\" TaskJuggler project and products\n",
    "\n",
    "As an illustration of what a real project looks like in TaskJuggler we will periodically refer to \n",
    "the project plan for a recently started project funded by the *Institute of Museum and Library Services* (\n",
    "IMLS NLG - LG-70-18-0092-18) to develop an enhanced *Research Data Management Training Clearinghouse* based\n",
    "upon the [ESIP Data Management Training Clearinghouse](http://dmtclearinghouse.esipfed.org) and expand the \n",
    "use of the clearinghouse and the training materials contained within it through targeted outreach to the data\n",
    "librarian community. \n",
    "\n",
    "Let's take a quick walk through the contents of the [project plan repository](https://github.com/imls-dmt/Project-Plan) and take a look at some of the [reports](https://imls-dmt.github.io/Project-Plan/project-plan/reports/)"
   ]
  },
  {
   "cell_type": "markdown",
   "metadata": {},
   "source": [
    "-------------------\n",
    "(0) -- \n",
    "[(1)](TJ-01%20Project%20Skeleton.ipynb) -- \n",
    "[(2)](TJ-02%20A%20Fleshed%20Out%20TaskJuggler%20Outline.ipynb) -- \n",
    "[(3)](TJ-03%20Progressive%20Elaboration%20of%20Tasks%20in%20TaskJuggler.ipynb) -- \n",
    "[(4)](TJ-04%20Assigning%20Resources%20%26%20Cost%20Estimation%20in%20TaskJuggler.ipynb) --\n",
    "[(5)](TJ-05%20Project%20Tracking%20in%20TaskJuggler.ipynb) -- \n",
    "[(6)](TJ-06%20Visualization%20%26%20Reporting%20in%20TaskJuggler.ipynb)"
   ]
  },
  {
   "cell_type": "code",
   "execution_count": null,
   "metadata": {},
   "outputs": [],
   "source": []
  }
 ],
 "metadata": {
  "kernelspec": {
   "display_name": "Python 3",
   "language": "python",
   "name": "python3"
  },
  "language_info": {
   "codemirror_mode": {
    "name": "ipython",
    "version": 3
   },
   "file_extension": ".py",
   "mimetype": "text/x-python",
   "name": "python",
   "nbconvert_exporter": "python",
   "pygments_lexer": "ipython3",
   "version": "3.6.5"
  }
 },
 "nbformat": 4,
 "nbformat_minor": 2
}
