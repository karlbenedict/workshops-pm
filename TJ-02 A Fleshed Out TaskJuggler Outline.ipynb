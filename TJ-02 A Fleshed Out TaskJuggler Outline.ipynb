{
 "cells": [
  {
   "cell_type": "markdown",
   "metadata": {},
   "source": [
    "# Putting Some Flesh on the Skeleton\n",
    "\n",
    "We are going to start to enhance our project with\n",
    "\n",
    "* Additional [project settings](http://taskjuggler.org/tj3/manual/project.html) that customize the way the scheduler is run, and modify the \n",
    "display of content in reports\n",
    "* Additional [tasks](http://taskjuggler.org/tj3/manual/task.html) that provide a high-level outline of the tasks that will be accomplished\n",
    "* Additional information in those tasks that provide more detailed information for the scheduler\n",
    "\n",
    "[foundation-02.tjp file](Sample-Files/foundation-02.tjp)\n",
    "\n",
    "    project foundation \"Foundation Project\" 2018-07-01 - 2019-06-30 {\n",
    "        currency \"USD\"\n",
    "        timeformat \"%Y-%m-%d\"\n",
    "        numberformat \"-\" \"\" \",\" \".\" 1\n",
    "        currencyformat \"(\" \")\" \",\" \".\" 0\n",
    "        now 2018-07-01-00:00\n",
    "        weekstartsmonday\n",
    "        workinghours mon - fri 9:00 - 12:00, 13:00 - 18:00\n",
    "        workinghours sat, sun off\n",
    "    }\n",
    "    \n",
    "    ############## accounts ################\n",
    "    \n",
    "    ############## resources ###############\n",
    "    \n",
    "    ############## tasks ###################\n",
    "    task projectstart \"Project Start\" {\n",
    "        start ${projectstart}\n",
    "    }\n",
    "    \n",
    "    \n",
    "    task doing \"Making the Goods\" {\n",
    "        start 2018-09-01\n",
    "        duration 4m\n",
    "    }\n",
    "    \n",
    "    task refining \"Refining the Goods\" {\n",
    "        start 2019-01-01\n",
    "        duration 4m\n",
    "    }\n",
    "    \n",
    "    task selling \"Selling the Goods\" {\n",
    "        end 2019-06-30\n",
    "        duration 4m\n",
    "    }\n",
    "    \n",
    "    ############## reports #################\n",
    "    \n",
    "    taskreport \"reports/foundation-02_taskreport\" {\n",
    "        formats html, csv\n",
    "        headline \"Project Breakdown\"\n",
    "    }"
   ]
  },
  {
   "cell_type": "code",
   "execution_count": 6,
   "metadata": {},
   "outputs": [
    {
     "name": "stdout",
     "output_type": "stream",
     "text": [
      "TaskJuggler v3.6.0 - A Project Management Software\n",
      "\n",
      "Copyright (c) 2006, 2007, 2008, 2009, 2010, 2011, 2012, 2013, 2014, 2015, 2016\n",
      "              by Chris Schlaeger <cs@taskjuggler.org>\n",
      "\n",
      "This program is free software; you can redistribute it and/or modify it under\n",
      "the terms of version 2 of the GNU General Public License as published by the\n",
      "Free Software Foundation.\n",
      "\n",
      "Reading file foundation-02.tjp                               ...\r",
      "Reading file foundation-02.tjp                               ...\r",
      "Reading file foundation-02.tjp                               [      Done      ]\n",
      "Preparing scenario Plan Scenario                             ...\r",
      "Preparing scenario Plan Scenario                             [=======81%==    ]\r",
      "Preparing scenario Plan Scenario                             [=======82%===   ]\r",
      "Preparing scenario Plan Scenario                             [=======83%===   ]\r",
      "Preparing scenario Plan Scenario                             [=======84%===   ]\r",
      "Preparing scenario Plan Scenario                             [=======85%===   ]\r",
      "Preparing scenario Plan Scenario                             [=======87%===   ]\r",
      "Preparing scenario Plan Scenario                             [=======88%====  ]\r",
      "Preparing scenario Plan Scenario                             [=======90%====  ]\r",
      "Preparing scenario Plan Scenario                             [=======95%===== ]\r",
      "Preparing scenario Plan Scenario                             [=======99%===== ]\r",
      "Preparing scenario Plan Scenario                             [======100%======]\r",
      "Preparing scenario Plan Scenario                             [      Done      ]\n",
      "Scheduling scenario Plan Scenario                            ...\r",
      "Scheduling scenario Plan Scenario                            [      Done      ]\n",
      "Checking scenario Plan Scenario                              ...\r",
      "Checking scenario Plan Scenario                              [====   25%      ]\r",
      "Checking scenario Plan Scenario                              [=======50%      ]\r",
      "Checking scenario Plan Scenario                              [=======75%==    ]\r",
      "Checking scenario Plan Scenario                              [======100%======]\r",
      "Checking scenario Plan Scenario                              [      Done      ]\n",
      "Report reports/foundation-02_taskreport                      ...\r",
      "Report reports/foundation-02_taskreport                      [|]\r",
      "Report reports/foundation-02_taskreport                      [      Done      ]\n"
     ]
    }
   ],
   "source": [
    "%%bash\n",
    "cd Sample-Files\n",
    "tj3 foundation-02.tjp"
   ]
  },
  {
   "cell_type": "markdown",
   "metadata": {},
   "source": [
    "producing this HTML report:\n",
    "\n",
    "[Sample-Files/reports/foundation-02_taskreport.html](Sample-Files/reports/foundation-02_taskreport.html)\n",
    "\n",
    "and the following CSV file:\n",
    "\n",
    "[Sample-Files/reports/foundation-02_taskreport.csv](Sample-Files/reports/foundation-02_taskreport.csv)"
   ]
  },
  {
   "cell_type": "markdown",
   "metadata": {},
   "source": [
    "## Practice ...\n",
    "\n",
    "Based on the `skeleton` you previously developed, you are going to add more high-level tasks \n",
    "and their associated start or end dates and expected task durations. When done you can generate \n",
    "new HTML and CSV reports that illustrate/contain the results of the project scheduling processs\n",
    "in TaskJuggler. Go ahead and add some milestones as well. \n",
    "\n",
    "### Activity:\n",
    "\n",
    "1. Modify your previously created \"skeleton\" `.tjp` file or create a new file based on the content of your \"skeleton\" file and add more tasks to the file.\n",
    "\n",
    "2. Run the TaskJuggler scheduler to test your skeleton to make sure that it does not generate any errors. If it does, see if you can fix them and re-run the scheduler. \n",
    "\n",
    "<video controls src=\"images/Timer10Minutestory.mov\" />"
   ]
  },
  {
   "cell_type": "markdown",
   "metadata": {},
   "source": [
    "-------------------\n",
    "[(0)](TJ-00%20What%20is%20TaskJuggler.ipynb) -- \n",
    "[(1)](TJ-01%20Project%20Skeleton.ipynb) -- \n",
    "(2) -- \n",
    "[(3)](TJ-03%20Progressive%20Elaboration%20of%20Tasks%20in%20TaskJuggler.ipynb) -- \n",
    "[(4)](TJ-04%20Assigning%20Resources%20%26%20Cost%20Estimation%20in%20TaskJuggler.ipynb) --\n",
    "[(5)](TJ-05%20Project%20Tracking%20in%20TaskJuggler.ipynb) -- \n",
    "[(6)](TJ-06%20Visualization%20%26%20Reporting%20in%20TaskJuggler.ipynb)"
   ]
  },
  {
   "cell_type": "code",
   "execution_count": null,
   "metadata": {},
   "outputs": [],
   "source": []
  }
 ],
 "metadata": {
  "kernelspec": {
   "display_name": "Python 3",
   "language": "python",
   "name": "python3"
  },
  "language_info": {
   "codemirror_mode": {
    "name": "ipython",
    "version": 3
   },
   "file_extension": ".py",
   "mimetype": "text/x-python",
   "name": "python",
   "nbconvert_exporter": "python",
   "pygments_lexer": "ipython3",
   "version": "3.6.5"
  }
 },
 "nbformat": 4,
 "nbformat_minor": 2
}
