{
 "cells": [
  {
   "cell_type": "markdown",
   "metadata": {},
   "source": [
    "# Overview of the TaskJuggler workshop elements\n",
    "\n",
    "The workshop activities associated with the use of [TaskJuggler](http://taskjuggler.org) for jproject planning are organized into seven sections:\n",
    "\n",
    "1. An introduction to TaskJuggler ([link](TJ-00%20What%20is%20TaskJuggler.ipynb))\n",
    "2. The development of a project skeleton ([link](TJ-01%20Project%20Skeleton.ipynb))\n",
    "3. Adding some high-level duration-based tasks and other materials to the project skeleton ([link](TJ-02%20A%20Fleshed%20Out%20TaskJuggler%20Outline.ipynb))\n",
    "4. Progressive elaboration of tasks through the further development of sub-tasks and dependencies between tasks that impact the sequence of work ([link](TJ-03%20Progressive%20Elaboration%20of%20Tasks%20in%20TaskJuggler.ipynb))\n",
    "5. Continued elaboration through the assignment of tasks to resources, integrating *effort* estimates, and costs into the plan ([link](TJ-04%20Assigning%20Resources%20%26%20Cost%20Estimation%20in%20TaskJuggler.ipynb))\n",
    "6. Adding project tracking information into the plan ([link](TJ-05%20Project%20Tracking%20in%20TaskJuggler.ipynb))\n",
    "7. Generating reports and visualization of plan elements ([link](TJ-06%20Visualization%20%26%20Reporting%20in%20TaskJuggler.ipynb))\n",
    "\n",
    "## You can follow along in several ways\n",
    "\n",
    "1. **Run the entire workshop on your personal computer - content & executable programs** - Visit the Coffee & Code Content Platform ([https://github.com/unmrds/cc-content-platform](https://github.com/unmrds/cc-content-platform)) GitHub repository and follow the installation and run instructions in the [README.md](https://github.com/unmrds/cc-content-platform/blob/master/README.md) file. Once running, the all of the workshop materials are available in the `cc-taskjuggler` folder in the *instruction* and *playground* Jupyter notebook folders. \n",
    "2. **Follow along in the \"playground\" where the presentation files can be copied and executable code run on our cloud-based platform** - [http://cc.unmrds.net:8888](http://cc.unmrds.net:8888) (the password will be provided in the workshop). \n",
    "3. **[Install TaskJuggler](http://taskjuggler.org/tj3/manual/Installation.html) on your computer** and create and run your own project plan locally while following along with the workshop materials tha can be downloaded from the workshop GitHub repository ([Zip Archive: https://github.com/unmrds/cc-taskjuggler/archive/master.zip](https://github.com/unmrds/cc-taskjuggler/archive/master.zip))."
   ]
  },
  {
   "cell_type": "markdown",
   "metadata": {},
   "source": [
    "-------------------\n",
    "[(0)](TJ-00%20What%20is%20TaskJuggler.ipynb) -- \n",
    "[(1)](TJ-01%20Project%20Skeleton.ipynb) -- \n",
    "[(2)](TJ-02%20A%20Fleshed%20Out%20TaskJuggler%20Outline.ipynb) -- \n",
    "[(3)](TJ-03%20Progressive%20Elaboration%20of%20Tasks%20in%20TaskJuggler.ipynb) -- \n",
    "[(4)](TJ-04%20Assigning%20Resources%20%26%20Cost%20Estimation%20in%20TaskJuggler.ipynb) --\n",
    "[(5)](TJ-05%20Project%20Tracking%20in%20TaskJuggler.ipynb) -- \n",
    "[(6)](TJ-06%20Visualization%20%26%20Reporting%20in%20TaskJuggler.ipynb)"
   ]
  },
  {
   "cell_type": "code",
   "execution_count": null,
   "metadata": {},
   "outputs": [],
   "source": []
  }
 ],
 "metadata": {
  "kernelspec": {
   "display_name": "Python 3",
   "language": "python",
   "name": "python3"
  },
  "language_info": {
   "codemirror_mode": {
    "name": "ipython",
    "version": 3
   },
   "file_extension": ".py",
   "mimetype": "text/x-python",
   "name": "python",
   "nbconvert_exporter": "python",
   "pygments_lexer": "ipython3",
   "version": "3.6.5"
  }
 },
 "nbformat": 4,
 "nbformat_minor": 2
}
